{
 "cells": [
  {
   "cell_type": "code",
   "execution_count": 10,
   "metadata": {},
   "outputs": [
    {
     "name": "stdout",
     "output_type": "stream",
     "text": [
      "(360, 6)\n",
      "(360,)\n"
     ]
    },
    {
     "name": "stderr",
     "output_type": "stream",
     "text": [
      "/Library/Frameworks/Python.framework/Versions/3.6/lib/python3.6/site-packages/ipykernel_launcher.py:18: DeprecationWarning: \n",
      ".ix is deprecated. Please use\n",
      ".loc for label based indexing or\n",
      ".iloc for positional indexing\n",
      "\n",
      "See the documentation here:\n",
      "http://pandas.pydata.org/pandas-docs/stable/indexing.html#ix-indexer-is-deprecated\n"
     ]
    }
   ],
   "source": [
    "import numpy as np\n",
    "import pandas as pd\n",
    "\n",
    "admissions = pd.read_csv('binary.csv')\n",
    "\n",
    "# Make dummy variables for rank\n",
    "data = pd.concat([admissions, pd.get_dummies(admissions['rank'], prefix='rank')], axis=1)\n",
    "data = data.drop('rank', axis=1)\n",
    "\n",
    "# Standarize features\n",
    "for field in ['gre', 'gpa']:\n",
    "    mean, std = data[field].mean(), data[field].std()\n",
    "    data.loc[:,field] = (data[field]-mean)/std\n",
    "    \n",
    "# Split off random 10% of the data for testing\n",
    "np.random.seed(21)\n",
    "sample = np.random.choice(data.index, size=int(len(data)*0.9), replace=False)\n",
    "data, test_data = data.ix[sample], data.drop(sample)\n",
    "\n",
    "# Split into features and targets\n",
    "features, targets = data.drop('admit', axis=1), data['admit']\n",
    "features_test, targets_test = test_data.drop('admit', axis=1), test_data['admit']\n",
    "print(features.shape)\n",
    "print(targets.shape)"
   ]
  },
  {
   "cell_type": "code",
   "execution_count": 53,
   "metadata": {},
   "outputs": [
    {
     "name": "stdout",
     "output_type": "stream",
     "text": [
      "Accuracy =  0.65\n",
      "Loss =  0.2482006\n",
      "Accuracy =  0.65\n",
      "Loss =  0.22144744\n",
      "Accuracy =  0.65\n",
      "Loss =  0.21537918\n",
      "Accuracy =  0.65\n",
      "Loss =  0.2154595\n",
      "Accuracy =  0.65\n",
      "Loss =  0.21537326\n",
      "Accuracy =  0.65\n",
      "Loss =  0.21537843\n"
     ]
    }
   ],
   "source": [
    "import tensorflow as tf\n",
    "import numpy as np\n",
    "\n",
    "n = features.shape[0]\n",
    "\n",
    "X = tf.placeholder(tf.float32, (None,6))\n",
    "Y_real = tf.placeholder(tf.float32, (None,))\n",
    "\n",
    "W1 = tf.Variable(tf.zeros([6, 2])) # initialize with 0s first\n",
    "b1 = tf.Variable(tf.zeros(2))\n",
    "W2 = tf.Variable(tf.zeros([2, 1])) # initialize with 0s first\n",
    "b2 = tf.Variable(tf.zeros(1))\n",
    "\n",
    "Z1 = tf.matmul(X,W1) + b1\n",
    "A1 = tf.nn.sigmoid(Z1)\n",
    "Z2 = tf.matmul(A1,W2) + b2\n",
    "output = tf.nn.sigmoid(Z2)\n",
    "\n",
    "\n",
    "\n",
    "loss = tf.reduce_mean((output-Y_real)**2)\n",
    "\n",
    "\n",
    "predictions = tf.cast(output > 0.5, tf.int32)\n",
    "y = tf.cast(Y_real, tf.int32)\n",
    "accuracy = tf.reduce_mean(tf.cast(tf.equal(predictions, y), tf.float32))\n",
    "\n",
    "train_op=tf.train.AdamOptimizer(0.01).minimize(loss)\n",
    "\n",
    "sess = tf.Session()\n",
    "sess.run(tf.global_variables_initializer())\n",
    "\n",
    "TRAIN_STEPS = 100\n",
    "for i in range(TRAIN_STEPS+1):\n",
    "    sess.run(train_op, feed_dict={X: features, Y_real: targets})\n",
    "    if i % 20 == 0:\n",
    "        print('Accuracy = ',sess.run(accuracy, feed_dict={X: features_test, Y_real: targets_test}))\n",
    "        print('Loss = ', sess.run(loss, feed_dict={X: features, Y_real: targets}))\n",
    "sess.close()"
   ]
  },
  {
   "cell_type": "code",
   "execution_count": null,
   "metadata": {},
   "outputs": [],
   "source": []
  },
  {
   "cell_type": "code",
   "execution_count": null,
   "metadata": {},
   "outputs": [],
   "source": []
  }
 ],
 "metadata": {
  "kernelspec": {
   "display_name": "Python 3",
   "language": "python",
   "name": "python3"
  },
  "language_info": {
   "codemirror_mode": {
    "name": "ipython",
    "version": 3
   },
   "file_extension": ".py",
   "mimetype": "text/x-python",
   "name": "python",
   "nbconvert_exporter": "python",
   "pygments_lexer": "ipython3",
   "version": "3.6.1"
  }
 },
 "nbformat": 4,
 "nbformat_minor": 2
}
